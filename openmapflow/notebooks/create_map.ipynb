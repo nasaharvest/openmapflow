{
  "cells": [
    {
      "cell_type": "markdown",
      "metadata": {
        "id": "oHKfXmw7hiyG"
      },
      "source": [
        "# Creating a map 🌍\n",
        "[![Open In Colab](https://colab.research.google.com/assets/colab-badge.svg)](https://colab.research.google.com/github/nasaharvest/openmapflow/blob/main/openmapflow/notebooks/create_map.ipynb)\n",
        "\n",
        "**Description:** This notebook provides all the code to create a map using OpenMapFlow's Google Cloud architecture. "
      ]
    },
    {
      "cell_type": "code",
      "execution_count": null,
      "metadata": {
        "id": "fxgxmfAKpg6U"
      },
      "outputs": [],
      "source": [
        "!pip install \"ipywidgets>=7,<8\" -q # https://github.com/googlecolab/colabtools/issues/3020\n",
        "!pip install openmapflow[data]==0.2.1 -q\n",
        "!pip install cmocean ipyleaflet==0.16.0 pyyaml==5.4.1 -q # Colab likes this version\n",
        "%env USE_AUTH_EPHEM=0"
      ]
    },
    {
      "cell_type": "code",
      "execution_count": null,
      "metadata": {
        "id": "R9nTgKE1qU1a"
      },
      "outputs": [],
      "source": [
        "import ipywidgets as widgets\n",
        "config_yml_input = widgets.Textarea(placeholder=\"Your openmapflow.yaml\", layout=widgets.Layout(height=\"10em\", width=\"50%\"))\n",
        "config_yml_input"
      ]
    },
    {
      "cell_type": "code",
      "execution_count": null,
      "metadata": {
        "id": "YyUUeV1crXah"
      },
      "outputs": [],
      "source": [
        "with open('openmapflow.yaml', 'w') as f:\n",
        "  f.write(config_yml_input.value)"
      ]
    },
    {
      "cell_type": "code",
      "execution_count": null,
      "metadata": {
        "id": "pCuKAocRvRK9"
      },
      "outputs": [],
      "source": [
        "import ee\n",
        "import google\n",
        "import os\n",
        "import cmocean\n",
        "import rasterio as rio\n",
        "import matplotlib.pyplot as plt\n",
        "import warnings\n",
        "\n",
        "from google.colab import auth\n",
        "from google.cloud import storage\n",
        "from pathlib import Path\n",
        "from openmapflow.ee_exporter import EarthEngineExporter\n",
        "from openmapflow.config import GCLOUD_PROJECT_ID, PROJECT, BucketNames\n",
        "from openmapflow.utils import confirmation\n",
        "from openmapflow.inference_widgets import InferenceWidget\n",
        "from openmapflow.inference_utils import (\n",
        "    get_status, \n",
        "    find_missing_predictions, \n",
        "    make_new_predictions, \n",
        "    build_vrt,\n",
        "    get_available_bboxes,\n",
        "    get_available_models\n",
        ")\n",
        "warnings.simplefilter(action='ignore', category=FutureWarning)\n",
        "print(PROJECT)"
      ]
    },
    {
      "cell_type": "markdown",
      "metadata": {
        "id": "Ag1WM1J_Ch-w"
      },
      "source": [
        "# 1. Setup"
      ]
    },
    {
      "cell_type": "code",
      "execution_count": null,
      "metadata": {
        "id": "pNfyPG88x09G"
      },
      "outputs": [],
      "source": [
        "print(\"Logging into Google Cloud\")\n",
        "auth.authenticate_user()\n",
        "print(\"Logging into Earth Engine\")\n",
        "SCOPES = [\n",
        "    \"https://www.googleapis.com/auth/cloud-platform\",\n",
        "    \"https://www.googleapis.com/auth/earthengine\",\n",
        "]\n",
        "CREDENTIALS, _ = google.auth.default(default_scopes=SCOPES)\n",
        "os.environ[\"GOOGLE_CLOUD_PROJECT\"] = GCLOUD_PROJECT_ID\n",
        "ee.Initialize(CREDENTIALS, project=GCLOUD_PROJECT_ID)"
      ]
    },
    {
      "cell_type": "code",
      "execution_count": null,
      "metadata": {
        "id": "9_965j2lDAyw"
      },
      "outputs": [],
      "source": [
        "output = !gcloud run services list \\\n",
        "    --platform managed \\\n",
        "    --filter {PROJECT}-management-api \\\n",
        "    --limit 1 \\\n",
        "    --format='get(URL)' \\\n",
        "    --project {GCLOUD_PROJECT_ID}\n",
        "models_url = f\"{output[0]}/models\"\n",
        "available_models = get_available_models(models_url)\n",
        "available_models"
      ]
    },
    {
      "cell_type": "markdown",
      "metadata": {
        "id": "47dpxDPoCnF2"
      },
      "source": [
        "# 2. Inference configuration\n",
        "\n"
      ]
    },
    {
      "cell_type": "code",
      "execution_count": null,
      "metadata": {
        "id": "QFI_cUTAdjeY"
      },
      "outputs": [],
      "source": [
        "available_bboxes = get_available_bboxes()\n",
        "available_bboxes"
      ]
    },
    {
      "cell_type": "code",
      "execution_count": null,
      "metadata": {
        "id": "sXeKrz8FlFyx"
      },
      "outputs": [],
      "source": [
        "inference_widget = InferenceWidget(available_models=available_models, available_bboxes=available_bboxes)\n",
        "inference_widget.ui()"
      ]
    },
    {
      "cell_type": "code",
      "execution_count": null,
      "metadata": {
        "id": "ivcZ_kuw5awP"
      },
      "outputs": [],
      "source": [
        "config = inference_widget.get_config_as_dict()\n",
        "map_key = config[\"map_key\"]\n",
        "bbox = config[\"bbox\"]\n",
        "start_date = config[\"start_date\"]\n",
        "end_date = config[\"end_date\"]\n",
        "tifs_in_gcloud = config[\"tifs_in_gcloud\"]\n",
        "\n",
        "\n",
        "def get_map_files(map_key):\n",
        "  blobs = storage.Client().list_blobs(bucket_or_name=BucketNames.PREDS_MERGED, prefix=f\"{map_key}.tif\")\n",
        "  return [f\"gs://{BucketNames.PREDS_MERGED}/{b.name}\" for b in blobs]\n",
        "\n",
        "existing_map_files = get_map_files(map_key)\n",
        "while len(existing_map_files) > 0:\n",
        "    print(f\"Map for {map_key} already exists: \\n{existing_map_files}\")\n",
        "    map_key += \"_\" + input(f\"Append to map key: {map_key}_\")\n",
        "    existing_map_files = get_map_files(map_key)"
      ]
    },
    {
      "cell_type": "markdown",
      "metadata": {
        "id": "HjHH4bRmRsny"
      },
      "source": [
        "# 3. Run fast inference\n",
        "\n",
        "![fast_inference](https://storage.googleapis.com/harvest-public-assets/openmapflow/fast_inference.png)\n",
        "\n"
      ]
    },
    {
      "cell_type": "code",
      "execution_count": null,
      "metadata": {
        "id": "yxRQbXJORl36"
      },
      "outputs": [],
      "source": [
        "def inference_status(map_key, existing_map_files, tifs_in_gcloud, bbox, start_date, end_date):\n",
        "  ee_task_amount, tifs_amount, predictions_amount = get_status(map_key)\n",
        "\n",
        "  if len(existing_map_files) > 0:\n",
        "    return f\"Merged map already available! \\nBucket: {BucketNames.PREDS_MERGED}!\\n{existing_map_files}\"\n",
        "\n",
        "  if tifs_amount > 0 and tifs_amount == predictions_amount:\n",
        "    return \"Inference complete! Time to merge predictions into a map.\"\n",
        "\n",
        "  if tifs_amount > predictions_amount and ee_task_amount == 0:\n",
        "    if confirmation(\"Predictions in progress:\\nIf predictions number is not increasing, input 'y' to retry\"):\n",
        "      missing = find_missing_predictions(map_key)\n",
        "      make_new_predictions(missing)\n",
        "      return \"Retrying model on missing predictions...\"\n",
        "    else:\n",
        "      return \"\"\n",
        "\n",
        "  if tifs_in_gcloud and ee_task_amount == 0:\n",
        "    src = tifs_in_gcloud\n",
        "    dest = f\"gs://{BucketNames.INFERENCE_EO}/{map_key}\"\n",
        "    if confirmation(f\"Moving tifs to right spot: gsutil -m mv \\ \\n\\t{src} \\ \\n\\t{dest}\"):\n",
        "      get_ipython().system('gsutil -m mv {src} {dest}')\n",
        "      return get_status(map_key)\n",
        "\n",
        "  if not tifs_in_gcloud and ee_task_amount == 0:\n",
        "    if confirmation(\"No existing data can be used, getting new data using EarthEngine\"):\n",
        "      EarthEngineExporter(credentials=CREDENTIALS, check_ee=False, check_gcp=False, dest_bucket=BucketNames.INFERENCE_EO).export_for_bbox(    \n",
        "          bbox=bbox,\n",
        "          bbox_name=map_key,\n",
        "          start_date=start_date,\n",
        "          end_date=end_date,\n",
        "          metres_per_polygon=50000,\n",
        "          file_dimensions=256)\n",
        "      return \"Starting Earth Engine exports, view progress here: https://code.earthengine.google.com/tasks\"\n",
        "\n",
        "  if not tifs_in_gcloud and ee_task_amount > 0:\n",
        "      return \"Waiting for Earth Engine exports, view progress here: https://code.earthengine.google.com/tasks\"\n",
        "      \n",
        "status = inference_status(\n",
        "    map_key=map_key, \n",
        "    existing_map_files=existing_map_files, \n",
        "    tifs_in_gcloud=tifs_in_gcloud, \n",
        "    bbox=bbox, \n",
        "    start_date=start_date,\n",
        "    end_date=end_date\n",
        "  )\n",
        "print(status)"
      ]
    },
    {
      "cell_type": "markdown",
      "metadata": {
        "id": "RRQJZrmmh5Zp"
      },
      "source": [
        "# 4. Merge predictions into a map\n",
        "\n",
        "<img src=\"https://github.com/nasaharvest/crop-mask/blob/master/assets/merging-predictions.png?raw=true\" alt=\"merging-predictions\" width=\"500\"/>"
      ]
    },
    {
      "cell_type": "code",
      "execution_count": null,
      "metadata": {
        "id": "plixoT3lyUop"
      },
      "outputs": [],
      "source": [
        "prefix = map_key.replace(\"/\", \"_\")\n",
        "Path(f\"{prefix}_preds\").mkdir(exist_ok=True)\n",
        "Path(f\"{prefix}_vrts\").mkdir(exist_ok=True)\n",
        "Path(f\"{prefix}_tifs\").mkdir(exist_ok=True)"
      ]
    },
    {
      "cell_type": "code",
      "execution_count": null,
      "metadata": {
        "id": "pdkZpkRIkv_3"
      },
      "outputs": [],
      "source": [
        "print(\"Download predictions as nc files (may take several minutes)\")\n",
        "src = f\"gs://{BucketNames.PREDS}/{map_key}*\"\n",
        "dest = f\"{prefix}_preds\"\n",
        "!gsutil -m cp -n -r {src} {dest}"
      ]
    },
    {
      "cell_type": "code",
      "execution_count": null,
      "metadata": {
        "id": "cS-z3N9Wo83U"
      },
      "outputs": [],
      "source": [
        "build_vrt(prefix)"
      ]
    },
    {
      "cell_type": "code",
      "execution_count": null,
      "metadata": {
        "id": "alItdeCvrn4Y"
      },
      "outputs": [],
      "source": [
        "# Translate vrt for all predictions into a tif file\n",
        "!gdal_translate -a_srs EPSG:4326 -of GTiff {prefix}_final.vrt {prefix}_final.tif"
      ]
    },
    {
      "cell_type": "code",
      "execution_count": null,
      "metadata": {
        "id": "Psq70TmHaT43"
      },
      "outputs": [],
      "source": [
        "if \"maize\" in PROJECT:\n",
        "  cmap = cmocean.cm.solar\n",
        "  cmap_name = \"Solar\"\n",
        "elif \"crop\" in PROJECT:\n",
        "  cmap = cmocean.cm.speed\n",
        "  cmap_name = \"Speed\"\n",
        "else:\n",
        "  cmap = cmocean.cm.thermal\n",
        "  cmap_name = \"Thermal\""
      ]
    },
    {
      "cell_type": "code",
      "execution_count": null,
      "metadata": {
        "id": "Tq1VBIzhSWEb"
      },
      "outputs": [],
      "source": [
        "# View map, maps over 5GB may not fit in RAM\n",
        "predictions_map = rio.open(f\"{prefix}_final.tif\")\n",
        "plt.figure(figsize=(10,10))\n",
        "plt.imshow(predictions_map.read(1), cmap=cmap)\n",
        "plt.title(\"Map Preview\")\n",
        "plt.axis(\"off\");"
      ]
    },
    {
      "cell_type": "markdown",
      "metadata": {
        "id": "WiM4mJ7ZxKjX"
      },
      "source": [
        "# 5. Upload map to Earth Engine"
      ]
    },
    {
      "cell_type": "code",
      "execution_count": null,
      "metadata": {
        "id": "U_ailjn5roRF"
      },
      "outputs": [],
      "source": [
        "dest = f\"gs://{BucketNames.PREDS_MERGED}/{map_key}_final.tif\"\n",
        "!gsutil cp {prefix}_final.tif {dest}"
      ]
    },
    {
      "cell_type": "code",
      "execution_count": null,
      "metadata": {
        "id": "veZRDe16HPF4"
      },
      "outputs": [],
      "source": [
        "earthengine_user = input(\"Enter your earthengine username:\")\n",
        "ee_safe_prefix = input(\"EE asset name:\").replace(\".\", \"-\").replace(\"=\", \"-\").replace(\"/\", \"-\")[:100]\n",
        "request_id = ee.data.newTaskId()[0]\n",
        "params = {\n",
        "    \"name\": f\"projects/earthengine-legacy/assets/users/{earthengine_user}/{ee_safe_prefix}\",\n",
        "    'tilesets': [{'sources': [{'uris': [dest]}]}], \n",
        "    'start_time': f\"{start_date}T00:00:00Z\", \n",
        "    'end_time': f\"{end_date}T00:00:00Z\"\n",
        "}\n",
        "ee.data.startIngestion(request_id=request_id, params=params, allow_overwrite=True)\n",
        "print(\"See map upload here: https://code.earthengine.google.com/tasks\")"
      ]
    },
    {
      "cell_type": "code",
      "execution_count": null,
      "metadata": {
        "id": "yfYxI0NLISL0"
      },
      "outputs": [],
      "source": [
        "print(f\"\"\"\n",
        "Once EarthEngine upload is complete:\n",
        "1. Click View asset on the image just created here: https://code.earthengine.google.com/tasks\n",
        "2. Click Import \n",
        "3. Paste the following script into EarthEngine to view the map:\n",
        "\n",
        "var palette = require('users/gena/packages:palettes').cmocean.{cmap_name}[7];\n",
        "Map.centerObject(image.geometry().centroid(), 7)\n",
        "Map.addLayer(image.gt(0.5), {{min: 0, max: 1.0, palette: palette.slice(0,-2)}}, 'Mask');\n",
        "Map.addLayer(image, {{min: 0, max: 1.0, palette: palette}}, 'Map');\n",
        "\n",
        "\"\"\")\n"
      ]
    }
  ],
  "metadata": {
    "colab": {
      "name": "create_map.ipynb",
      "provenance": []
    },
    "kernelspec": {
      "display_name": "Python 3.9.12 ('venv': venv)",
      "language": "python",
      "name": "python3"
    },
    "language_info": {
      "name": "python",
      "version": "3.9.12"
    },
    "vscode": {
      "interpreter": {
        "hash": "bd96feeca8c75643d28e6472f2b0778c141660d21a3db17f7d03cb9dc5057e55"
      }
    }
  },
  "nbformat": 4,
  "nbformat_minor": 0
}
