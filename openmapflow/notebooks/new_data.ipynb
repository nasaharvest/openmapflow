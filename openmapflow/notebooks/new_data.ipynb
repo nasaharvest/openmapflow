{
  "cells": [
    {
      "cell_type": "markdown",
      "metadata": {
        "id": "wBYSuraxoKJy"
      },
      "source": [
        "# Add new labeled data 🛰️\n",
        "\n",
        "**Description:** Stand alone notebook for adding new training and evaluation data. \n",
        "\n",
        "[![Open In Colab](https://colab.research.google.com/assets/colab-badge.svg)](https://colab.research.google.com/github/nasaharvest/openmapflow/blob/main/openmapflow/notebooks/new_data.ipynb)"
      ]
    },
    {
      "cell_type": "markdown",
      "metadata": {
        "id": "UdI-wLrbxHZn"
      },
      "source": [
        "# 1. Setup\n",
        "\n",
        "If you don't already have one, obtain a Github Personal Access Token using the steps [here](https://docs.github.com/en/authentication/keeping-your-account-and-data-secure/creating-a-personal-access-token). Save this token somewhere private."
      ]
    },
    {
      "cell_type": "code",
      "execution_count": null,
      "metadata": {},
      "outputs": [],
      "source": [
        "!pip install \"ipywidgets>=7,<8\" -q # https://github.com/googlecolab/colabtools/issues/3020"
      ]
    },
    {
      "cell_type": "code",
      "execution_count": null,
      "metadata": {
        "id": "r0uTZMehPaay"
      },
      "outputs": [],
      "source": [
        "from ipywidgets import Password, Text, VBox\n",
        "inputs = [\n",
        "      Password(description=\"Github Token:\"),\n",
        "      Text(description='Github Email:'),\n",
        "      Text(description='Github User:'),\n",
        "      Text(description='Github URL:'),\n",
        "]\n",
        "VBox(inputs)"
      ]
    },
    {
      "cell_type": "code",
      "execution_count": null,
      "metadata": {
        "id": "pcgm4kgRBK3K"
      },
      "outputs": [],
      "source": [
        "token = inputs[0].value\n",
        "email = inputs[1].value\n",
        "username = inputs[2].value\n",
        "github_url = inputs[3].value\n",
        "\n",
        "!git config --global user.email $username\n",
        "!git config --global user.name $email\n",
        "!git clone {github_url.replace(\"https://\", f\"https://{username}:{token}@\")}"
      ]
    },
    {
      "cell_type": "code",
      "execution_count": null,
      "metadata": {
        "id": "aSU_O1nTsHoR"
      },
      "outputs": [],
      "source": [
        "from pathlib import Path\n",
        "path_to_yaml = input(\"Path to openmapflow.yaml: \")\n",
        "%cd {Path(path_to_yaml).parent}"
      ]
    },
    {
      "cell_type": "code",
      "execution_count": null,
      "metadata": {
        "id": "KagMB1l78b6f"
      },
      "outputs": [],
      "source": [
        "!pip install openmapflow[data]==0.1.5 dvc[gdrive] -q\n",
        "!pip install pyyaml==5.4.1 -q"
      ]
    },
    {
      "cell_type": "code",
      "execution_count": null,
      "metadata": {
        "id": "fxZzu09eQakG"
      },
      "outputs": [],
      "source": [
        "from google.colab import files\n",
        "from openmapflow.utils import colab_gee_gcloud_login\n",
        "from openmapflow.config import PROJECT_ROOT, DataPaths, GCLOUD_PROJECT_ID\n",
        "from openmapflow.raw_labels import _read_in_file"
      ]
    },
    {
      "cell_type": "code",
      "execution_count": null,
      "metadata": {
        "id": "sgWUPLKjAjEw"
      },
      "outputs": [],
      "source": [
        "colab_gee_gcloud_login(GCLOUD_PROJECT_ID)"
      ]
    },
    {
      "cell_type": "code",
      "execution_count": null,
      "metadata": {
        "id": "6IGqamBoRIwZ"
      },
      "outputs": [],
      "source": [
        "# Existing branches\n",
        "!git branch -r"
      ]
    },
    {
      "cell_type": "code",
      "execution_count": null,
      "metadata": {
        "id": "FRAnU4n4RYvx"
      },
      "outputs": [],
      "source": [
        "choice = input(\"a) Checking progress of dataset creation OR \\nb) Creating new dataset \\na/b: \")\n",
        "if choice == \"a\":\n",
        "  branch_name = input(\"Existing branch name: \")\n",
        "  !git checkout {branch_name}\n",
        "  !git pull\n",
        "elif choice == \"b\":\n",
        "  branch_name = input(\"New branch name: \")\n",
        "  !git checkout -b {branch_name}\n",
        "else:\n",
        "  print(f\"Invalid choice: {choice}, must be 'a' or 'b'\")\n"
      ]
    },
    {
      "cell_type": "markdown",
      "metadata": {
        "id": "QEusgSrCqxaz"
      },
      "source": [
        "# 2. Download latest data\n",
        "Data is stored in remote storage (ie. Google Drive) so authentication is necessary."
      ]
    },
    {
      "cell_type": "code",
      "execution_count": null,
      "metadata": {
        "id": "ls-7sN9Hoew6"
      },
      "outputs": [],
      "source": [
        "!dvc pull -q"
      ]
    },
    {
      "cell_type": "markdown",
      "metadata": {
        "id": "-JVvrrWH0SJn"
      },
      "source": [
        "# 3. Upload labels"
      ]
    },
    {
      "cell_type": "code",
      "execution_count": null,
      "metadata": {
        "id": "kaiEJDq11SxD"
      },
      "outputs": [],
      "source": [
        "dataset_name = input(\"Dataset name (suggested format: <Country_Region_Year>): \")\n",
        "while True:\n",
        "    dataset_dir = PROJECT_ROOT / DataPaths.RAW_LABELS / dataset_name\n",
        "    if dataset_dir.exists() and len(list(dataset_dir.iterdir())) > 0:\n",
        "        dataset_name = input(\"Dataset name already exists, try a different name: \")\n",
        "    else:\n",
        "        dataset_dir.mkdir(exist_ok=True)\n",
        "        break\n",
        "\n",
        "print(\"--------------------------------------------------\")\n",
        "print(f\"Dataset: {dataset_name} directory created\")\n",
        "print(\"---------------------------------------------------\")\n",
        "uploaded = files.upload()\n",
        "for file_name in uploaded.keys():\n",
        "    Path(file_name).rename(dataset_dir / file_name)"
      ]
    },
    {
      "cell_type": "code",
      "execution_count": null,
      "metadata": {
        "id": "hjlrlfgNZVDg"
      },
      "outputs": [],
      "source": [
        "# Assess dataset\n",
        "df = _read_in_file(dataset_dir / file_name)\n",
        "df.head()"
      ]
    },
    {
      "cell_type": "markdown",
      "metadata": {
        "id": "qmqM6F1PGaNd"
      },
      "source": [
        "# 4. Create dataset\n",
        "<img src=\"https://storage.googleapis.com/harvest-public-assets/openmapflow/new_data.png\"/>"
      ]
    },
    {
      "cell_type": "markdown",
      "metadata": {
        "id": "bZ_UcNJx20aL"
      },
      "source": [
        "`openmapflow create-datasets` creates datasets from labels and earth observation data referenced in datasets.py.\n",
        "\n",
        "It first checks if the necessary earth observation data is already available in Cloud Storage, or if an active Earth Engine task is already active. So Google Cloud and Earth Engine authentication is needed."
      ]
    },
    {
      "cell_type": "code",
      "execution_count": null,
      "metadata": {
        "id": "BhiyDGfmYC7z"
      },
      "outputs": [],
      "source": [
        "user_confirmation = input(\n",
        "    \"Open datasets.py and add a `LabeledDataset` object representing the labels just added.\\n\"+\n",
        "    \"Added `LabeledDataset y/[n]: \"\n",
        ")\n",
        "if user_confirmation.lower() != \"y\":\n",
        "    print(\"New features can only be created when a `LabeledDataset` object is added.\")"
      ]
    },
    {
      "cell_type": "code",
      "execution_count": null,
      "metadata": {
        "id": "Z-FY_x1OjWvF"
      },
      "outputs": [],
      "source": [
        "import importlib\n",
        "from openmapflow.labeled_dataset import create_datasets\n",
        "import datasets as ds\n",
        "importlib.reload(ds)\n",
        "create_datasets(ds.datasets)"
      ]
    },
    {
      "cell_type": "markdown",
      "metadata": {
        "id": "XG94Q3lAzmyu"
      },
      "source": [
        "# 5. Push new dataset to the repository"
      ]
    },
    {
      "cell_type": "code",
      "execution_count": null,
      "metadata": {
        "id": "Fbv1fwFNzrnS"
      },
      "outputs": [],
      "source": [
        "# Pushing to remote storage\n",
        "!dvc commit\n",
        "!dvc push"
      ]
    },
    {
      "cell_type": "code",
      "execution_count": null,
      "metadata": {
        "id": "9EywOpWv8JDV"
      },
      "outputs": [],
      "source": [
        "# Pushing reference to github\n",
        "commit_message = input(\"Commit message: \")\n",
        "!git add .\n",
        "!git commit -m '{commit_message}'\n",
        "!git push --set-upstream origin {branch_name}"
      ]
    },
    {
      "cell_type": "markdown",
      "metadata": {
        "id": "YENWoPX_1AJC"
      },
      "source": [
        "Create a Pull Request so the data can be merged into the main branch."
      ]
    }
  ],
  "metadata": {
    "colab": {
      "name": "new_data.ipynb",
      "provenance": []
    },
    "kernelspec": {
      "display_name": "Python 3.9.12 ('venv': venv)",
      "language": "python",
      "name": "python3"
    },
    "language_info": {
      "codemirror_mode": {
        "name": "ipython",
        "version": 3
      },
      "file_extension": ".py",
      "mimetype": "text/x-python",
      "name": "python",
      "nbconvert_exporter": "python",
      "pygments_lexer": "ipython3",
      "version": "3.9.12"
    },
    "vscode": {
      "interpreter": {
        "hash": "bd96feeca8c75643d28e6472f2b0778c141660d21a3db17f7d03cb9dc5057e55"
      }
    }
  },
  "nbformat": 4,
  "nbformat_minor": 0
}
